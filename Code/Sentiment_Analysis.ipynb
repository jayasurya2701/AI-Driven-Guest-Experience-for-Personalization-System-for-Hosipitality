{
  "cells": [
    {
      "cell_type": "code",
      "execution_count": 3,
      "metadata": {
        "id": "qGxpRvqukQ-W",
        "colab": {
          "base_uri": "https://localhost:8080/"
        },
        "outputId": "ff7d0fde-ebec-403d-9b7a-2b4d3326458e"
      },
      "outputs": [
        {
          "output_type": "stream",
          "name": "stdout",
          "text": [
            "Feedback Analysis Result: ```json\n",
            "{\n",
            "  \"sentiment\": \"Negative\",\n",
            "  \"responsible_area\": \"Multiple Areas: Room Quality, Customer Service, False Advertising, Amenities\" \n",
            "}\n",
            "```\n",
            "\n"
          ]
        }
      ],
      "source": [
        "from openai import OpenAI\n",
        "import openai\n",
        "from pydantic import BaseModel\n",
        "import pandas as pd\n",
        "\n",
        "client = OpenAI(base_url=\"https://openrouter.ai/api/v1\", api_key=\"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\")\n",
        "\n",
        "class Sentiment(BaseModel):\n",
        "    sentiment: str\n",
        "    responsible_area: str\n",
        "\n",
        "def provide_sentiment(feedback: str):\n",
        "    try:\n",
        "        completion = client.chat.completions.create(\n",
        "            temperature=0,\n",
        "            model=\"google/learnlm-1.5-pro-experimental:free\",\n",
        "            messages=[\n",
        "                {\"role\": \"system\", \"content\": \"You are an assistant that analyzes user feedback and provides the sentiment as Positive, Negative, or Neutral in JSON format. Additionally, if the sentiment is Negative, identify the area responsible for the negative feedback.\"},\n",
        "                {\"role\": \"user\", \"content\": \"Here is a feedback for analysis: \\\"The product is excellent, and I love using it!\\\"\"},\n",
        "                {\"role\": \"assistant\", \"content\": \"{\\\"sentiment\\\": \\\"Positive\\\", \\\"responsible_area\\\": \\\"N/A\\\"}\"},\n",
        "                {\"role\": \"user\", \"content\": \"Here is a feedback for analysis: \\\"The service was terrible, and I would not recommend it to anyone.\\\"\"},\n",
        "                {\"role\": \"assistant\", \"content\": \"{\\\"sentiment\\\": \\\"Negative\\\", \\\"responsible_area\\\": \\\"Service Quality\\\"}\"},\n",
        "                {\"role\": \"user\", \"content\": \"Here is a feedback for analysis: \\\"The product is okay, but it could use some improvements.\\\"\"},\n",
        "                {\"role\": \"assistant\", \"content\": \"{\\\"sentiment\\\": \\\"Neutral\\\", \\\"responsible_area\\\": \\\"N/A\\\"}\"},\n",
        "                {\"role\": \"user\", \"content\": f\"Here is a feedback for analysis: \\\"{feedback}\\\"\"}\n",
        "            ]\n",
        "        )\n",
        "\n",
        "        if completion.choices and completion.choices[0].message:\n",
        "            sentiment_response = completion.choices[0].message.content\n",
        "            return sentiment_response\n",
        "        else:\n",
        "            return \"{\\\"sentiment\\\": \\\"Error\\\", \\\"responsible_area\\\": \\\"N/A\\\"}\"\n",
        "\n",
        "    except Exception as e:\n",
        "        print(f\"Error occurred: {e}\")\n",
        "        return \"{\\\"sentiment\\\": \\\"Error\\\", \\\"responsible_area\\\": \\\"N/A\\\"}\"\n",
        "\n",
        "if __name__ == \"__main__\":\n",
        "    # Analyze a single review\n",
        "    feedback = \"ok nothing special charge diamond member hilton decided chain shot 20th anniversary seattle \tstart booked suite paid extra website description not \tsuite bedroom bathroom standard hotel room \ttook printed reservation desk showed said things like tv couch ect desk clerk told oh mixed suites description kimpton website sorry free breakfast \tgot kidding \tembassy suits sitting room bathroom bedroom unlike kimpton calls suite \t5 day stay offer correct false advertising \tsend kimpton preferred guest website email asking failure provide suite advertised website reservation description furnished hard copy reservation printout website desk manager duty did not reply solution \tsend email trip guest survey did not follow email mail \tguess tell concerned guest.the staff ranged indifferent not helpful \tasked desk good breakfast spots neighborhood hood told no hotels \tgee best breakfast spots seattle 1/2 block away convenient hotel does not know exist \tarrived late night 11 pm inside run bellman busy chating cell phone help bags.prior arrival emailed hotel inform 20th anniversary half really picky wanted make sure good \tgot nice email saying like deliver bottle champagne chocolate covered strawberries room arrival celebrate \ttold needed foam pillows \tarrival no champagne strawberries no foam pillows great room view alley high rise building good not better housekeeping staff cleaner room property \timpressed left morning shopping room got short trips 2 hours \tbeds comfortable.not good ac-heat control 4 x 4 inch screen bring green shine directly eyes night \tlight sensitive tape controls.this not 4 start hotel clean business hotel super high rates \tbetter chain hotels seattle \t  \"\n",
        "    sentiment = provide_sentiment(feedback)\n",
        "    print(\"Feedback Analysis Result:\", sentiment)\n"
      ]
    },
    {
      "cell_type": "code",
      "source": [],
      "metadata": {
        "id": "CLye-5VHVds7"
      },
      "execution_count": null,
      "outputs": []
    }
  ],
  "metadata": {
    "colab": {
      "provenance": []
    },
    "kernelspec": {
      "display_name": "Python 3",
      "name": "python3"
    },
    "language_info": {
      "name": "python"
    }
  },
  "nbformat": 4,
  "nbformat_minor": 0
}