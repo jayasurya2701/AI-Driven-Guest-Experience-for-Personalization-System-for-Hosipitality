{
  "cells": [
    {
      "cell_type": "code",
      "execution_count": 1,
      "metadata": {
        "colab": {
          "base_uri": "https://localhost:8080/"
        },
        "id": "ohubRSS6X84t",
        "outputId": "49f30f23-463c-4f81-eac1-a115fbc0a342"
      },
      "outputs": [
        {
          "name": "stdout",
          "output_type": "stream",
          "text": [
            "Collecting slack-sdk\n",
            "  Downloading slack_sdk-3.34.0-py2.py3-none-any.whl.metadata (15 kB)\n",
            "Downloading slack_sdk-3.34.0-py2.py3-none-any.whl (292 kB)\n",
            "\u001b[?25l   \u001b[90m━━━━━━━━━━━━━━━━━━━━━━━━━━━━━━━━━━━━━━━━\u001b[0m \u001b[32m0.0/292.5 kB\u001b[0m \u001b[31m?\u001b[0m eta \u001b[36m-:--:--\u001b[0m\r\u001b[2K   \u001b[90m━━━━━━━━━━━━━━━━━━━━━━━━━━━━━━━━━━━━━━━━\u001b[0m \u001b[32m292.5/292.5 kB\u001b[0m \u001b[31m11.3 MB/s\u001b[0m eta \u001b[36m0:00:00\u001b[0m\n",
            "\u001b[?25hInstalling collected packages: slack-sdk\n",
            "Successfully installed slack-sdk-3.34.0\n"
          ]
        }
      ],
      "source": [
        "!pip install slack-sdk"
      ]
    },
    {
      "cell_type": "code",
      "execution_count": 2,
      "metadata": {
        "id": "CiJmqiKaYDS2"
      },
      "outputs": [],
      "source": [
        "from slack_sdk.webhook import WebhookClient\n",
        "slack_webhook_url = \"\"\n",
        "def send_slack_notification(message):\n",
        "    webhook = WebhookClient(slack_webhook_url)\n",
        "    response = webhook.send(text=message)\n",
        "    if response.status_code == 200 and response.body == \"ok\":\n",
        "        print(\"Slack notification sent successfully!\")\n",
        "    else:\n",
        "        print(f\"Failed to send Slack notification. Response: {response.body}\")"
      ]
    },
    {
      "cell_type": "code",
      "execution_count": 3,
      "metadata": {
        "colab": {
          "base_uri": "https://localhost:8080/"
        },
        "id": "Kh11dE_SYZ72",
        "outputId": "aba58fc4-da91-4c4b-f1ff-6af5e5cb84c8"
      },
      "outputs": [
        {
          "name": "stdout",
          "output_type": "stream",
          "text": [
            "Slack notification sent successfully!\n"
          ]
        }
      ],
      "source": [
        "message = \"Hi\"\n",
        "send_slack_notification(message)"
      ]
    },
    {
      "cell_type": "code",
      "execution_count": 4,
      "metadata": {
        "colab": {
          "base_uri": "https://localhost:8080/"
        },
        "id": "RxdtQytHYcNA",
        "outputId": "849a14ec-23ba-4725-8055-32a4e80fca5b"
      },
      "outputs": [
        {
          "name": "stdout",
          "output_type": "stream",
          "text": [
            "Slack notification sent successfully!\n"
          ]
        }
      ],
      "source": [
        "from slack_sdk.webhook import WebhookClient\n",
        "from textblob import TextBlob\n",
        "\n",
        "slack_webhook_url = \"\"\n",
        "\n",
        "def analyze_review(review):\n",
        "    sentiment_score = TextBlob(review).sentiment.polarity\n",
        "    sentiment = \"Positive\" if sentiment_score > 0 else \"Negative\" if sentiment_score < 0 else \"Neutral\"\n",
        "\n",
        "    categories = {\n",
        "        \"dining\": [\"restaurant\", \"food\", \"service\", \"buffet\"],\n",
        "        \"amenities\": [\"pool\", \"spa\", \"gym\", \"tennis\"],\n",
        "        \"activities\": [\"tour\", \"yoga\", \"class\", \"activity\"]\n",
        "    }\n",
        "    responsible_category = \"general\"\n",
        "    for category, keywords in categories.items():\n",
        "        if any(keyword in review.lower() for keyword in keywords):\n",
        "            responsible_category = category\n",
        "            break\n",
        "\n",
        "    next_steps = {\n",
        "        \"dining\": \"Ensure **staff training** and monitor **food quality**.\",\n",
        "        \"amenities\": \"Perform **maintenance checks** and enhance **guest experience**.\",\n",
        "        \"activities\": \"Gather **guest feedback** to improve offerings.\",\n",
        "        \"general\": \"Review feedback for further action.\"\n",
        "    }\n",
        "    suggestion = next_steps.get(responsible_category, \"No specific steps defined.\")\n",
        "\n",
        "    return sentiment, responsible_category, suggestion\n",
        "\n",
        "def send_slack_notification(user_id, customer_name, review):\n",
        "    sentiment, category, suggestion = analyze_review(review)\n",
        "    message = (\n",
        "        f\"*User ID:* {user_id}\\n\"\n",
        "        f\"*Customer Name:* {customer_name}\\n\"\n",
        "        f\"*Review:* {review}\\n\"\n",
        "        f\"*Sentiment:* *{sentiment}*\\n\"\n",
        "        f\"*Category:* *{category.capitalize()}*\\n\"\n",
        "        f\"*Next Steps:* {suggestion}\\n\"\n",
        "    )\n",
        "\n",
        "    webhook = WebhookClient(slack_webhook_url)\n",
        "    response = webhook.send(text=message)\n",
        "\n",
        "    if response.status_code == 200 and response.body == \"ok\":\n",
        "        print(\"Slack notification sent successfully!\")\n",
        "    else:\n",
        "        print(f\"Failed to send Slack notification. Response: {response.body}\")\n",
        "\n",
        "review_text = \"The restaurant service was excellent, but the buffet quality could be improved.\"\n",
        "user_id = \"001\"\n",
        "customer_name = \"John Doe\"\n",
        "send_slack_notification(user_id, customer_name, review_text)\n"
      ]
    },
    {
      "cell_type": "code",
      "execution_count": 5,
      "metadata": {
        "colab": {
          "base_uri": "https://localhost:8080/"
        },
        "id": "LodEZ-pDYf2I",
        "outputId": "55af9569-5e1a-4849-9928-2fb8483a1e4d"
      },
      "outputs": [
        {
          "name": "stdout",
          "output_type": "stream",
          "text": [
            "Email sent successfully.\n"
          ]
        }
      ],
      "source": [
        "import smtplib\n",
        "import ssl\n",
        "\n",
        "sender_email = \"\"\n",
        "receiver_email = \"\"\n",
        "password = \"\"\n",
        "\n",
        "smtp_server = \"smtp.gmail.com\"\n",
        "smtp_port = 465\n",
        "context = ssl.create_default_context()\n",
        "\n",
        "\n",
        "subject = \"Alert: Action Required\"\n",
        "body = \"The action to be taken in order to make further next step\"\n",
        "message = f\"Subject: {subject}\\n\\n{body}\"\n",
        "\n",
        "try:\n",
        "    with smtplib.SMTP_SSL(smtp_server, smtp_port, context=context) as server:\n",
        "        server.login(sender_email, password) \n",
        "        server.sendmail(sender_email, receiver_email, message)  \n",
        "        print(\"Email sent successfully.\")\n",
        "except Exception as e:\n",
        "    print(f\"Error: {e}\")\n"
      ]
    }
  ],
  "metadata": {
    "colab": {
      "provenance": []
    },
    "kernelspec": {
      "display_name": "Python 3",
      "name": "python3"
    },
    "language_info": {
      "name": "python"
    }
  },
  "nbformat": 4,
  "nbformat_minor": 0
}
