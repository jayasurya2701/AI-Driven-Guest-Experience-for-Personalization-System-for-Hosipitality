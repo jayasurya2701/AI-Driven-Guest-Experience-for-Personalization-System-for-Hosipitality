{
  "nbformat": 4,
  "nbformat_minor": 0,
  "metadata": {
    "colab": {
      "provenance": []
    },
    "kernelspec": {
      "name": "python3",
      "display_name": "Python 3"
    },
    "language_info": {
      "name": "python"
    }
  },
  "cells": [
    {
      "cell_type": "code",
      "execution_count": 98,
      "metadata": {
        "colab": {
          "base_uri": "https://localhost:8080/"
        },
        "id": "kEyTQCQ8F_7e",
        "outputId": "5d557f19-ca89-4faf-8a3d-c93fd0cc2806"
      },
      "outputs": [
        {
          "output_type": "execute_result",
          "data": {
            "text/plain": [
              "<sqlite3.Cursor at 0x7eae0a533140>"
            ]
          },
          "metadata": {},
          "execution_count": 98
        }
      ],
      "source": [
        "import sqlite3\n",
        "import json\n",
        "\n",
        "conn = sqlite3.connect(\"user_profiles.db\")\n",
        "cursor = conn.cursor()\n",
        "\n",
        "cursor.execute(\"\"\"\n",
        "CREATE TABLE IF NOT EXISTS user_profiles (\n",
        "    user_id TEXT PRIMARY KEY,\n",
        "    name TEXT,\n",
        "    age INTEGER,\n",
        "    gender TEXT,\n",
        "    location TEXT,\n",
        "    preferences TEXT,  -- Store preferences as a comma-separated string\n",
        "    interaction_history TEXT  -- Store interaction history as JSON string\n",
        ")\n",
        "\"\"\")"
      ]
    },
    {
      "cell_type": "code",
      "source": [
        "def add_or_update_user_profile(user_id, name, age, gender, location, preferences, interaction_history):\n",
        "    cursor.execute(\"SELECT * FROM user_profiles WHERE user_id = ?\", (user_id,))\n",
        "    result = cursor.fetchone()\n",
        "\n",
        "    if result:\n",
        "        # Update existing profile\n",
        "        cursor.execute(\"\"\"\n",
        "        UPDATE user_profiles\n",
        "        SET name = ?, age = ?, gender = ?, location = ?, preferences = ?, interaction_history = ?\n",
        "        WHERE user_id = ?\n",
        "        \"\"\", (name, age, gender, location, preferences, interaction_history, user_id))\n",
        "        print(f\"Updated profile for User ID: {user_id}\")\n",
        "    else:\n",
        "        # Insert a new profile\n",
        "        cursor.execute(\"\"\"\n",
        "        INSERT INTO user_profiles (user_id, name, age, gender, location, preferences, interaction_history)\n",
        "        VALUES (?, ?, ?, ?, ?, ?, ?)\n",
        "        \"\"\", (user_id, name, age, gender, location, preferences, interaction_history))\n",
        "        print(f\"Added new profile for User ID: {user_id}\")\n",
        "\n",
        "    conn.commit()"
      ],
      "metadata": {
        "id": "m4fI-8zgGJza"
      },
      "execution_count": 99,
      "outputs": []
    },
    {
      "cell_type": "code",
      "source": [
        "# Function to update user preferences dynamically\n",
        "def update_user_preferences(user_id, new_preferences):\n",
        "    cursor.execute(\"SELECT preferences FROM user_profiles WHERE user_id = ?\", (user_id,))\n",
        "    result = cursor.fetchone()\n",
        "\n",
        "    if result:\n",
        "        # Merge existing preferences with new ones\n",
        "        existing_preferences = set(result[0].split(\", \"))\n",
        "        updated_preferences = existing_preferences.union(set(new_preferences))\n",
        "        updated_preferences_str = \", \".join(updated_preferences)\n",
        "\n",
        "        cursor.execute(\"\"\"\n",
        "        UPDATE user_profiles\n",
        "        SET preferences = ?\n",
        "        WHERE user_id = ?\n",
        "        \"\"\", (updated_preferences_str, user_id))\n",
        "        print(f\"Updated preferences for User ID: {user_id}\")\n",
        "    else:\n",
        "        print(f\"User ID: {user_id} not found!\")\n",
        "\n",
        "    conn.commit()"
      ],
      "metadata": {
        "id": "-c5ssPoeGQ3r"
      },
      "execution_count": 100,
      "outputs": []
    },
    {
      "cell_type": "code",
      "source": [
        "# Example usage\n",
        "# Adding a new user\n",
        "add_or_update_user_profile(\n",
        "    user_id=\"001\",\n",
        "    name=\"John\",\n",
        "    age=25,\n",
        "    gender=\"Male\",\n",
        "    location=\"London\",\n",
        "    preferences=\"Spa, Italian Cuisine, Adventure Sports\",\n",
        "    interaction_history=json.dumps([{\"type\": \"view\", \"item\": \"Yoga Retreat\", \"timestamp\": \"2025-01-15\"}])\n",
        ")\n",
        "\n",
        "# Adding another new user\n",
        "add_or_update_user_profile(\n",
        "    user_id=\"002\",\n",
        "    name=\"James\",\n",
        "    age=26,\n",
        "    gender=\"Male\",\n",
        "    location=\"New York\",\n",
        "    preferences=\"Spa, South Indian Cuisine, Games\",\n",
        "    interaction_history=json.dumps([{\"type\": \"view\", \"item\": \"Gym\", \"timestamp\": \"2025-01-06\"}])\n",
        ")"
      ],
      "metadata": {
        "colab": {
          "base_uri": "https://localhost:8080/"
        },
        "id": "MhUx-h2bGWjx",
        "outputId": "4709d707-e9f0-4cec-ec7c-06b3f27ce2da"
      },
      "execution_count": 101,
      "outputs": [
        {
          "output_type": "stream",
          "name": "stdout",
          "text": [
            "Added new profile for User ID: 001\n",
            "Added new profile for User ID: 002\n"
          ]
        }
      ]
    },
    {
      "cell_type": "code",
      "source": [
        "# Query to fetch all records\n",
        "cursor.execute(\"SELECT * FROM user_profiles\")\n",
        "\n",
        "# Fetch and display all rows\n",
        "rows = cursor.fetchall()\n",
        "for row in rows:\n",
        "    print(row)"
      ],
      "metadata": {
        "colab": {
          "base_uri": "https://localhost:8080/"
        },
        "id": "s81SluE_IpxA",
        "outputId": "25dfbe98-2f68-40eb-b65f-ee2f57e94830"
      },
      "execution_count": 102,
      "outputs": [
        {
          "output_type": "stream",
          "name": "stdout",
          "text": [
            "('001', 'John', 25, 'Male', 'London', 'Spa, Italian Cuisine, Adventure Sports', '[{\"type\": \"view\", \"item\": \"Yoga Retreat\", \"timestamp\": \"2025-01-15\"}]')\n",
            "('002', 'James', 26, 'Male', 'New York', 'Spa, South Indian Cuisine, Games', '[{\"type\": \"view\", \"item\": \"Gym\", \"timestamp\": \"2025-01-06\"}]')\n"
          ]
        }
      ]
    },
    {
      "cell_type": "code",
      "source": [
        "# Adding a new interaction\n",
        "add_interaction(\"001\", {\"type\": \"purchase\", \"item\": \"Spa\", \"timestamp\": \"2025-01-05\"})\n",
        "add_interaction(\"002\", {\"type\": \"purchase\", \"item\": \"Jacuzzi\", \"timestamp\": \"2025-01-10\"})"
      ],
      "metadata": {
        "colab": {
          "base_uri": "https://localhost:8080/"
        },
        "id": "y88BWOPJH0fi",
        "outputId": "5a8997e3-6546-47c0-9a1c-155ffa1458bf"
      },
      "execution_count": 103,
      "outputs": [
        {
          "output_type": "stream",
          "name": "stdout",
          "text": [
            "Added interaction for User ID: 001\n",
            "Added interaction for User ID: 002\n"
          ]
        }
      ]
    },
    {
      "cell_type": "code",
      "source": [
        "# Fetch and print updated user profile\n",
        "cursor.execute(\"SELECT * FROM user_profiles WHERE user_id = ?\", (\"001\",))\n",
        "user_profile = cursor.fetchone()\n",
        "print(\"Updated User Profile:\", user_profile)"
      ],
      "metadata": {
        "colab": {
          "base_uri": "https://localhost:8080/"
        },
        "id": "4VPx7pKSH7Vd",
        "outputId": "3e83ac80-3c72-4322-cb72-0823b1fa4981"
      },
      "execution_count": 104,
      "outputs": [
        {
          "output_type": "stream",
          "name": "stdout",
          "text": [
            "Updated User Profile: ('001', 'John', 25, 'Male', 'London', 'Spa, Italian Cuisine, Adventure Sports', '[{\"type\": \"view\", \"item\": \"Yoga Retreat\", \"timestamp\": \"2025-01-15\"}, {\"type\": \"purchase\", \"item\": \"Spa\", \"timestamp\": \"2025-01-05\"}]')\n"
          ]
        }
      ]
    },
    {
      "cell_type": "code",
      "source": [
        "# Query to fetch all records\n",
        "cursor.execute(\"SELECT * FROM user_profiles\")\n",
        "\n",
        "# Fetch and display all rows\n",
        "rows = cursor.fetchall()\n",
        "for row in rows:\n",
        "    print(row)"
      ],
      "metadata": {
        "colab": {
          "base_uri": "https://localhost:8080/"
        },
        "id": "m0szjPYgH_MQ",
        "outputId": "e4bbcc97-4a37-4569-f90f-5ed93c801ef3"
      },
      "execution_count": 105,
      "outputs": [
        {
          "output_type": "stream",
          "name": "stdout",
          "text": [
            "('001', 'John', 25, 'Male', 'London', 'Spa, Italian Cuisine, Adventure Sports', '[{\"type\": \"view\", \"item\": \"Yoga Retreat\", \"timestamp\": \"2025-01-15\"}, {\"type\": \"purchase\", \"item\": \"Spa\", \"timestamp\": \"2025-01-05\"}]')\n",
            "('002', 'James', 26, 'Male', 'New York', 'Spa, South Indian Cuisine, Games', '[{\"type\": \"view\", \"item\": \"Gym\", \"timestamp\": \"2025-01-06\"}, {\"type\": \"purchase\", \"item\": \"Jacuzzi\", \"timestamp\": \"2025-01-10\"}]')\n"
          ]
        }
      ]
    },
    {
      "cell_type": "code",
      "source": [
        "conn.close()"
      ],
      "metadata": {
        "id": "pdbS-cE3IWhl"
      },
      "execution_count": 106,
      "outputs": []
    },
    {
      "cell_type": "code",
      "source": [],
      "metadata": {
        "id": "YBJuUDqKM7L9"
      },
      "execution_count": 106,
      "outputs": []
    }
  ]
}